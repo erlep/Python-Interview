{
 "cells": [
  {
   "cell_type": "code",
   "execution_count": 3,
   "metadata": {},
   "outputs": [
    {
     "name": "stdout",
     "output_type": "stream",
     "text": [
      "2.5.3\n"
     ]
    }
   ],
   "source": [
    "import pydantic\n",
    "print(pydantic.__version__)"
   ]
  },
  {
   "cell_type": "markdown",
   "metadata": {},
   "source": [
    "Validierung ohne Pydantic"
   ]
  },
  {
   "cell_type": "code",
   "execution_count": 4,
   "metadata": {},
   "outputs": [
    {
     "name": "stdout",
     "output_type": "stream",
     "text": [
      "Expected id to be an int, got str\n"
     ]
    }
   ],
   "source": [
    "class User:\n",
    "    def __init__(self, id, name='Jane Doe'):\n",
    "        if not isinstance(id, int):\n",
    "            raise TypeError(f'Expected id to be an int, got {type(id).__name__}')\n",
    "\n",
    "        if not isinstance(name, str):\n",
    "            raise TypeError(f'Expected name to be a str, got {type(name).__name__}')\n",
    "\n",
    "        self.id = id\n",
    "        self.name = name\n",
    "\n",
    "try:\n",
    "    user = User(id='123')\n",
    "except TypeError as e:\n",
    "    print(e)\n"
   ]
  },
  {
   "cell_type": "markdown",
   "metadata": {},
   "source": [
    "Mit Pydantic"
   ]
  },
  {
   "cell_type": "code",
   "execution_count": 5,
   "metadata": {},
   "outputs": [],
   "source": [
    "from pydantic import BaseModel\n",
    "\n",
    "\n",
    "class User(BaseModel):\n",
    "    id: int\n",
    "    name: str = 'Jane Doe'\n"
   ]
  },
  {
   "cell_type": "code",
   "execution_count": 6,
   "metadata": {},
   "outputs": [],
   "source": [
    "user = User(id='123')"
   ]
  },
  {
   "cell_type": "code",
   "execution_count": 7,
   "metadata": {},
   "outputs": [
    {
     "name": "stdout",
     "output_type": "stream",
     "text": [
      "123\n"
     ]
    }
   ],
   "source": [
    "print(user.id)"
   ]
  },
  {
   "cell_type": "code",
   "execution_count": 8,
   "metadata": {},
   "outputs": [
    {
     "name": "stdout",
     "output_type": "stream",
     "text": [
      "{'id'}\n",
      "{'name', 'id'}\n"
     ]
    }
   ],
   "source": [
    "print(user.model_fields_set)\n",
    "user = User(id='123', name='Joe Doe')\n",
    "print(user.model_fields_set)\n"
   ]
  },
  {
   "cell_type": "code",
   "execution_count": 9,
   "metadata": {},
   "outputs": [
    {
     "name": "stdout",
     "output_type": "stream",
     "text": [
      "{'id': 123, 'name': 'Joe Doe'}\n",
      "{\"id\":123,\"name\":\"Joe Doe\"}\n",
      "{'properties': {'id': {'title': 'Id', 'type': 'integer'}, 'name': {'default': 'Jane Doe', 'title': 'Name', 'type': 'string'}}, 'required': ['id'], 'title': 'User', 'type': 'object'}\n"
     ]
    }
   ],
   "source": [
    "print(user.model_dump())\n",
    "print(user.model_dump_json())\n",
    "print(user.model_json_schema())"
   ]
  },
  {
   "cell_type": "markdown",
   "metadata": {},
   "source": [
    "### Nested models"
   ]
  },
  {
   "cell_type": "code",
   "execution_count": 10,
   "metadata": {},
   "outputs": [
    {
     "name": "stdout",
     "output_type": "stream",
     "text": [
      "name='Tasty Bites' location='123, Flavor Street' foods=[Food(name='Cheese Pizza', price=12.5, ingredients=['Cheese', 'Tomato Sauce', 'Dough']), Food(name='Veggie Burger', price=8.99, ingredients=None)]\n",
      "{'name': 'Tasty Bites', 'location': '123, Flavor Street', 'foods': [{'name': 'Cheese Pizza', 'price': 12.5, 'ingredients': ['Cheese', 'Tomato Sauce', 'Dough']}, {'name': 'Veggie Burger', 'price': 8.99, 'ingredients': None}]}\n"
     ]
    }
   ],
   "source": [
    "from typing import List, Optional\n",
    "from pydantic import BaseModel\n",
    "\n",
    "\n",
    "class Food(BaseModel):\n",
    "    name: str\n",
    "    price: float\n",
    "    ingredients: Optional[List[str]] = None\n",
    "\n",
    "\n",
    "class Restaurant(BaseModel):\n",
    "    name: str\n",
    "    location: str\n",
    "    foods: List[Food]\n",
    "\n",
    "\n",
    "restaurant_instance = Restaurant(\n",
    "    name=\"Tasty Bites\",\n",
    "    location=\"123, Flavor Street\",\n",
    "    foods=[\n",
    "        {\"name\": \"Cheese Pizza\", \"price\": 12.50, \"ingredients\": [\"Cheese\", \"Tomato Sauce\", \"Dough\"]},\n",
    "        {\"name\": \"Veggie Burger\", \"price\": 8.99}\n",
    "    ]\n",
    ")\n",
    "\n",
    "print(restaurant_instance)\n",
    "print(restaurant_instance.model_dump())"
   ]
  },
  {
   "cell_type": "code",
   "execution_count": 11,
   "metadata": {},
   "outputs": [
    {
     "name": "stdout",
     "output_type": "stream",
     "text": [
      "Requirement already satisfied: pydantic[email] in c:\\aac\\venv\\venvpy_3.12\\venv\\lib\\site-packages (2.5.3)\n",
      "Requirement already satisfied: annotated-types>=0.4.0 in c:\\aac\\venv\\venvpy_3.12\\venv\\lib\\site-packages (from pydantic[email]) (0.6.0)\n",
      "Requirement already satisfied: pydantic-core==2.14.6 in c:\\aac\\venv\\venvpy_3.12\\venv\\lib\\site-packages (from pydantic[email]) (2.14.6)\n",
      "Requirement already satisfied: typing-extensions>=4.6.1 in c:\\aac\\venv\\venvpy_3.12\\venv\\lib\\site-packages (from pydantic[email]) (4.9.0)\n",
      "Collecting email-validator>=2.0.0 (from pydantic[email])\n",
      "  Downloading email_validator-2.1.0.post1-py3-none-any.whl.metadata (25 kB)\n",
      "Collecting dnspython>=2.0.0 (from email-validator>=2.0.0->pydantic[email])\n",
      "  Downloading dnspython-2.5.0-py3-none-any.whl.metadata (5.8 kB)\n",
      "Requirement already satisfied: idna>=2.0.0 in c:\\aac\\venv\\venvpy_3.12\\venv\\lib\\site-packages (from email-validator>=2.0.0->pydantic[email]) (3.4)\n",
      "Downloading email_validator-2.1.0.post1-py3-none-any.whl (32 kB)\n",
      "Downloading dnspython-2.5.0-py3-none-any.whl (305 kB)\n",
      "   ---------------------------------------- 0.0/305.4 kB ? eta -:--:--\n",
      "   --------- ------------------------------ 71.7/305.4 kB 2.0 MB/s eta 0:00:01\n",
      "   ---------------------------------- ----- 266.2/305.4 kB 3.3 MB/s eta 0:00:01\n",
      "   ---------------------------------------- 305.4/305.4 kB 3.1 MB/s eta 0:00:00\n",
      "Installing collected packages: dnspython, email-validator\n",
      "Successfully installed dnspython-2.5.0 email-validator-2.1.0.post1\n"
     ]
    }
   ],
   "source": [
    "!pip install pydantic[email]"
   ]
  },
  {
   "cell_type": "code",
   "execution_count": 12,
   "metadata": {},
   "outputs": [
    {
     "name": "stdout",
     "output_type": "stream",
     "text": [
      "name='Tasty Bites' owner=Owner(name='John Doe', email='john.doe@example.com') address=Address(street='123, Flavor Street', city='Tastytown', state='TS', zip_code='12345') employees=[Employee(name='Jane Doe', position='Chef', email='jane.doe@example.com'), Employee(name='Mike Roe', position='Waiter', email='mike.roe@example.com')] number_of_seats=50 delivery=True website=Url('http://tastybites.com/')\n"
     ]
    }
   ],
   "source": [
    "from typing import List\n",
    "from pydantic import BaseModel, EmailStr, PositiveInt, conlist, Field, HttpUrl\n",
    "\n",
    "class Address(BaseModel):\n",
    "    street: str\n",
    "    city: str\n",
    "    state: str\n",
    "    zip_code: str\n",
    "\n",
    "class Employee(BaseModel):\n",
    "    name: str\n",
    "    position: str\n",
    "    email: EmailStr\n",
    "\n",
    "class Owner(BaseModel):\n",
    "    name: str\n",
    "    email: EmailStr\n",
    "\n",
    "class Restaurant(BaseModel):\n",
    "    name: str = Field(..., pattern=r\"^[a-zA-Z0-9-' ]+$\")\n",
    "    owner: Owner\n",
    "    address: Address\n",
    "    employees: conlist(Employee, min_length=2)\n",
    "    number_of_seats: PositiveInt\n",
    "    delivery: bool\n",
    "    website: HttpUrl\n",
    "\n",
    "# Creating an instance of the Restaurant class\n",
    "restaurant_instance = Restaurant(\n",
    "    name=\"Tasty Bites\",\n",
    "    owner={\n",
    "        \"name\": \"John Doe\",\n",
    "        \"email\": \"john.doe@example.com\"\n",
    "    },\n",
    "    address={\n",
    "        \"street\": \"123, Flavor Street\",\n",
    "        \"city\": \"Tastytown\",\n",
    "        \"state\": \"TS\",\n",
    "        \"zip_code\": \"12345\",\n",
    "    },\n",
    "    employees=[\n",
    "        {\n",
    "            \"name\": \"Jane Doe\",\n",
    "            \"position\": \"Chef\",\n",
    "            \"email\": \"jane.doe@example.com\"\n",
    "        },\n",
    "        {\n",
    "            \"name\": \"Mike Roe\",\n",
    "            \"position\": \"Waiter\",\n",
    "            \"email\": \"mike.roe@example.com\"\n",
    "        }\n",
    "    ],\n",
    "    number_of_seats=50,\n",
    "    delivery=True,\n",
    "    website=\"http://tastybites.com\"\n",
    ")\n",
    "\n",
    "# Printing the instance\n",
    "print(restaurant_instance)\n"
   ]
  },
  {
   "cell_type": "markdown",
   "metadata": {},
   "source": [
    "Field Validators"
   ]
  },
  {
   "cell_type": "code",
   "execution_count": 13,
   "metadata": {},
   "outputs": [
    {
     "name": "stdout",
     "output_type": "stream",
     "text": [
      "1 validation error for Owner\n",
      "name\n",
      "  Value error, Owner name must contain a space [type=value_error, input_value='JohnDoe', input_type=str]\n",
      "    For further information visit https://errors.pydantic.dev/2.5/v/value_error\n"
     ]
    }
   ],
   "source": [
    "from pydantic import BaseModel, EmailStr, field_validator\n",
    "\n",
    "class Owner(BaseModel):\n",
    "    name: str\n",
    "    email: EmailStr\n",
    "\n",
    "    @field_validator('name')\n",
    "    @classmethod\n",
    "    def name_must_contain_space(cls, v: str) -> str:\n",
    "        if ' ' not in v:\n",
    "            raise ValueError('Owner name must contain a space')\n",
    "        return v.title()\n",
    "\n",
    "try:\n",
    "    owner_instance = Owner(name=\"JohnDoe\", email=\"john.doe@example.com\")\n",
    "except ValueError as e:\n",
    "    print(e)\n",
    "\n"
   ]
  },
  {
   "cell_type": "markdown",
   "metadata": {},
   "source": [
    "Model validators - allowing you to create a model before and after field validation"
   ]
  },
  {
   "cell_type": "code",
   "execution_count": 14,
   "metadata": {},
   "outputs": [
    {
     "name": "stdout",
     "output_type": "stream",
     "text": [
      "name='John Doe' email='john.doe@example.com'\n",
      "1 validation error for Owner\n",
      "  Value error, password should not be included [type=value_error, input_value={'name': 'JohnDoe', 'emai...assword': 'password123'}, input_type=dict]\n",
      "    For further information visit https://errors.pydantic.dev/2.5/v/value_error\n"
     ]
    }
   ],
   "source": [
    "from typing import Any\n",
    "from pydantic import BaseModel, EmailStr, ValidationError, model_validator\n",
    "\n",
    "class Owner(BaseModel):\n",
    "    name: str\n",
    "    email: EmailStr\n",
    "\n",
    "    @model_validator(mode='before')\n",
    "    @classmethod\n",
    "    def check_sensitive_info_omitted(cls, data: Any) -> Any:\n",
    "        if isinstance(data, dict):\n",
    "            if 'password' in data:\n",
    "                raise ValueError('password should not be included')\n",
    "            if 'card_number' in data:\n",
    "                raise ValueError('card_number should not be included')\n",
    "        return data\n",
    "\n",
    "    @model_validator(mode='after')\n",
    "    def check_name_contains_space(self) -> 'Owner':\n",
    "        if ' ' not in self.name:\n",
    "            raise ValueError('Owner name must contain a space')\n",
    "        return self\n",
    "\n",
    "\n",
    "\n",
    "print(Owner(name=\"John Doe\", email=\"john.doe@example.com\"))\n",
    "\n",
    "try:\n",
    "    Owner(name=\"JohnDoe\", email=\"john.doe@example.com\", password=\"password123\")\n",
    "except ValidationError as e:\n",
    "    print(e)\n"
   ]
  },
  {
   "cell_type": "code",
   "execution_count": 15,
   "metadata": {},
   "outputs": [
    {
     "name": "stdout",
     "output_type": "stream",
     "text": [
      "1 validation error for Owner\n",
      "  Value error, Owner name must contain a space [type=value_error, input_value={'name': 'JohnDoe', 'emai... 'john.doe@example.com'}, input_type=dict]\n",
      "    For further information visit https://errors.pydantic.dev/2.5/v/value_error\n"
     ]
    }
   ],
   "source": [
    "try:\n",
    "    Owner(name=\"JohnDoe\", email=\"john.doe@example.com\")\n",
    "except ValidationError as e:\n",
    "    print(e)"
   ]
  },
  {
   "cell_type": "markdown",
   "metadata": {},
   "source": [
    "Fields - Used to customize and add metadata to fields of models"
   ]
  },
  {
   "cell_type": "code",
   "execution_count": 16,
   "metadata": {},
   "outputs": [
    {
     "name": "stdout",
     "output_type": "stream",
     "text": [
      "name='John Doe'\n"
     ]
    }
   ],
   "source": [
    "from pydantic import BaseModel, Field\n",
    "\n",
    "class User(BaseModel):\n",
    "    name: str = Field(default='John Doe')\n",
    "\n",
    "user = User()\n",
    "print(user)"
   ]
  },
  {
   "cell_type": "code",
   "execution_count": 17,
   "metadata": {},
   "outputs": [
    {
     "name": "stdout",
     "output_type": "stream",
     "text": [
      "id='f3938f4cee00432b827081a176689a96'\n"
     ]
    }
   ],
   "source": [
    "from uuid import uuid4\n",
    "\n",
    "from pydantic import BaseModel, Field\n",
    "\n",
    "class User(BaseModel):\n",
    "    id: int = Field(default_factory=lambda: uuid4().hex)\n",
    "\n",
    "user = User()\n",
    "print(user)"
   ]
  },
  {
   "cell_type": "markdown",
   "metadata": {},
   "source": [
    "Field aliases - For validation and serialization, you can define an alias for a field.\n",
    "\n",
    "There are three ways to define an alias:\n",
    "\n",
    "- `Field(..., alias='foo')`\n",
    "- `Field(..., validation_alias='foo')`\n",
    "- `Field(..., serialization_alias='foo')`"
   ]
  },
  {
   "cell_type": "code",
   "execution_count": 18,
   "metadata": {},
   "outputs": [
    {
     "name": "stdout",
     "output_type": "stream",
     "text": [
      "name='johndoe'\n",
      "{'username': 'johndoe'}\n"
     ]
    }
   ],
   "source": [
    "from pydantic import BaseModel, Field\n",
    "\n",
    "\n",
    "class User(BaseModel):\n",
    "    name: str = Field(..., alias='username')\n",
    "\n",
    "\n",
    "user = User(username='johndoe')\n",
    "print(user)\n",
    "print(user.model_dump(by_alias=True))"
   ]
  },
  {
   "cell_type": "markdown",
   "metadata": {},
   "source": [
    "But why would you want to do it? For example if you API and database fields differ - you only need one model"
   ]
  },
  {
   "cell_type": "markdown",
   "metadata": {},
   "source": [
    "Lets look at field constraints"
   ]
  },
  {
   "cell_type": "code",
   "execution_count": 19,
   "metadata": {},
   "outputs": [],
   "source": [
    "from typing import List\n",
    "from pydantic import BaseModel, Field, EmailStr\n",
    "from decimal import Decimal\n",
    "\n",
    "class User(BaseModel):\n",
    "    username: str = Field(..., min_length=3, max_length=10, pattern=r'^\\w+$')\n",
    "    email: EmailStr = Field(...)\n",
    "    age: int = Field(..., gt=0, le=120)\n",
    "    height: float = Field(..., gt=0.0)\n",
    "    is_active: bool = Field(True)\n",
    "    balance: Decimal = Field(..., max_digits=10, decimal_places=2)\n",
    "    favorite_numbers: List[int] = Field(..., min_items=1)\n"
   ]
  },
  {
   "cell_type": "code",
   "execution_count": 20,
   "metadata": {},
   "outputs": [
    {
     "name": "stdout",
     "output_type": "stream",
     "text": [
      "username='john_doe' email='john.doe@example.com' age=30 height=5.9 is_active=True balance=Decimal('9999.99') favorite_numbers=[1, 2, 3]\n"
     ]
    }
   ],
   "source": [
    "user_instance = User(\n",
    "    username=\"john_doe\",\n",
    "    age=30,\n",
    "    height=5.9,\n",
    "    weight=160.5,\n",
    "    email=\"john.doe@example.com\",\n",
    "    password=\"securepassword\",\n",
    "    balance=9999.99,\n",
    "    favorite_numbers=[1,2,3]\n",
    ")\n",
    "\n",
    "print(user_instance)"
   ]
  },
  {
   "cell_type": "markdown",
   "metadata": {},
   "source": [
    "Computed Fields"
   ]
  },
  {
   "cell_type": "code",
   "execution_count": 21,
   "metadata": {},
   "outputs": [
    {
     "name": "stdout",
     "output_type": "stream",
     "text": [
      "{'name': 'John Doe', 'birth_year': 2000, 'age': 24}\n"
     ]
    }
   ],
   "source": [
    "from pydantic import BaseModel, computed_field\n",
    "from datetime import datetime\n",
    "\n",
    "\n",
    "class Person(BaseModel):\n",
    "    name: str\n",
    "    birth_year: int\n",
    "\n",
    "    @computed_field\n",
    "    @property\n",
    "    def age(self) -> int:\n",
    "        current_year = datetime.now().year\n",
    "        return current_year - self.birth_year\n",
    "\n",
    "\n",
    "print(Person(name=\"John Doe\", birth_year=2000).model_dump())\n"
   ]
  },
  {
   "cell_type": "code",
   "execution_count": 22,
   "metadata": {},
   "outputs": [
    {
     "name": "stdout",
     "output_type": "stream",
     "text": [
      "name='John Doe' birth_year=2006\n"
     ]
    }
   ],
   "source": [
    "from pydantic import BaseModel, ValidationError, field_validator\n",
    "from datetime import datetime\n",
    "\n",
    "class Person(BaseModel):\n",
    "    name: str\n",
    "    birth_year: int\n",
    "\n",
    "    @property\n",
    "    def age(self) -> int:\n",
    "        current_year = datetime.now().year\n",
    "        return current_year - self.birth_year\n",
    "\n",
    "    @field_validator('birth_year')\n",
    "    @classmethod\n",
    "    def validate_age(cls, v: int) -> int:\n",
    "        current_year = datetime.now().year\n",
    "        if current_year - v < 18:\n",
    "            raise ValueError('Person must be 18 years or older')\n",
    "        return v\n",
    "\n",
    "try:\n",
    "    print(Person(name=\"John Doe\", birth_year=2006))\n",
    "except ValidationError as e:\n",
    "    print(e)\n"
   ]
  },
  {
   "cell_type": "markdown",
   "metadata": {},
   "source": [
    "You also also use dataclasses and pydantics valiation logic - dataclasses do not provide that out of the box"
   ]
  },
  {
   "cell_type": "code",
   "execution_count": 23,
   "metadata": {},
   "outputs": [],
   "source": [
    "from dataclasses import dataclass, field\n",
    "from typing import List, Optional\n",
    "from pydantic import Field, TypeAdapter\n",
    "\n",
    "\n",
    "@dataclass\n",
    "class User:\n",
    "    id: int\n",
    "    name: str = 'John Doe'\n",
    "    age: Optional[int] = field(\n",
    "        default=None,\n",
    "        metadata=dict(title='The age of the user', description='do not lie!', ge=18),\n",
    "    )\n",
    "    height: Optional[int] = Field(None, title='The height in cm', ge=50, le=300)\n",
    "    friends: List[int] = field(default_factory=lambda: [0])\n",
    "\n",
    "\n",
    "\n"
   ]
  },
  {
   "cell_type": "markdown",
   "metadata": {},
   "source": [
    "TypeAdapter\n",
    "\n",
    "You may have types that are not `BaseModels` that you want to validate data against. Or you may want to validate a `List[SomeModel]`, or dump it to JSON.\n",
    "\n",
    "For use cases like this, Pydantic provides `TypeAdapter`, which can be used for type validation, serialization, and JSON schema generation without creating a `BaseModel`.\n"
   ]
  },
  {
   "cell_type": "code",
   "execution_count": 24,
   "metadata": {},
   "outputs": [
    {
     "name": "stdout",
     "output_type": "stream",
     "text": [
      "{'properties': {'id': {'title': 'Id', 'type': 'integer'}, 'name': {'default': 'John Doe', 'title': 'Name', 'type': 'string'}, 'age': {'anyOf': [{'minimum': 18, 'type': 'integer'}, {'type': 'null'}], 'default': None, 'description': 'do not lie!', 'title': 'The age of the user'}, 'height': {'anyOf': [{'maximum': 300, 'minimum': 50, 'type': 'integer'}, {'type': 'null'}], 'default': None, 'title': 'The height in cm'}, 'friends': {'items': {'type': 'integer'}, 'title': 'Friends', 'type': 'array'}}, 'required': ['id'], 'title': 'User', 'type': 'object'}\n"
     ]
    }
   ],
   "source": [
    "# Example of using TypeAdapter to get json_schema of the User dataclass\n",
    "print(TypeAdapter(User).json_schema())"
   ]
  },
  {
   "cell_type": "markdown",
   "metadata": {},
   "source": [
    "### Strict mode\n",
    "\n",
    "Pydantic, by default, tries to coerce values to the declared type, converting inputs like the string \"123\" to integer 123, but this automatic conversion can be undesirable in situations where strict type compliance is required, causing a need for configurations to make Pydantic error out instead."
   ]
  },
  {
   "cell_type": "code",
   "execution_count": 25,
   "metadata": {},
   "outputs": [
    {
     "name": "stdout",
     "output_type": "stream",
     "text": [
      "id=42 username='john_doe'\n"
     ]
    }
   ],
   "source": [
    "from pydantic import BaseModel, ValidationError\n",
    "\n",
    "\n",
    "class User(BaseModel):\n",
    "    id: int\n",
    "    username: str\n",
    "\n",
    "\n",
    "print(User.model_validate({'id': '42', 'username': 'john_doe'}))  # lax mode\n",
    "#> id=42 username='john_doe'"
   ]
  },
  {
   "cell_type": "code",
   "execution_count": 26,
   "metadata": {},
   "outputs": [
    {
     "name": "stdout",
     "output_type": "stream",
     "text": [
      "1 validation error for User\n",
      "id\n",
      "  Input should be a valid integer [type=int_type, input_value='42', input_type=str]\n",
      "    For further information visit https://errors.pydantic.dev/2.5/v/int_type\n"
     ]
    }
   ],
   "source": [
    "try:\n",
    "    User.model_validate({'id': '42', 'username': 'john_doe'}, strict=True)  # strict mode\n",
    "except ValidationError as exc:\n",
    "    print(exc)"
   ]
  },
  {
   "cell_type": "markdown",
   "metadata": {},
   "source": [
    "Settings Management \n",
    "\n",
    "Pydantic Settings provides optional Pydantic features for loading a settings or config class from environment variables or secrets files."
   ]
  },
  {
   "cell_type": "code",
   "execution_count": 27,
   "metadata": {},
   "outputs": [
    {
     "name": "stdout",
     "output_type": "stream",
     "text": [
      "Collecting pydantic-settings\n",
      "  Downloading pydantic_settings-2.1.0-py3-none-any.whl.metadata (2.9 kB)\n",
      "Requirement already satisfied: pydantic>=2.3.0 in c:\\aac\\venv\\venvpy_3.12\\venv\\lib\\site-packages (from pydantic-settings) (2.5.3)\n",
      "Collecting python-dotenv>=0.21.0 (from pydantic-settings)\n",
      "  Downloading python_dotenv-1.0.1-py3-none-any.whl.metadata (23 kB)\n",
      "Requirement already satisfied: annotated-types>=0.4.0 in c:\\aac\\venv\\venvpy_3.12\\venv\\lib\\site-packages (from pydantic>=2.3.0->pydantic-settings) (0.6.0)\n",
      "Requirement already satisfied: pydantic-core==2.14.6 in c:\\aac\\venv\\venvpy_3.12\\venv\\lib\\site-packages (from pydantic>=2.3.0->pydantic-settings) (2.14.6)\n",
      "Requirement already satisfied: typing-extensions>=4.6.1 in c:\\aac\\venv\\venvpy_3.12\\venv\\lib\\site-packages (from pydantic>=2.3.0->pydantic-settings) (4.9.0)\n",
      "Downloading pydantic_settings-2.1.0-py3-none-any.whl (11 kB)\n",
      "Downloading python_dotenv-1.0.1-py3-none-any.whl (19 kB)\n",
      "Installing collected packages: python-dotenv, pydantic-settings\n",
      "Successfully installed pydantic-settings-2.1.0 python-dotenv-1.0.1\n"
     ]
    }
   ],
   "source": [
    "!pip install pydantic-settings"
   ]
  },
  {
   "cell_type": "code",
   "execution_count": 28,
   "metadata": {},
   "outputs": [
    {
     "ename": "ValidationError",
     "evalue": "1 validation error for Settings\nmy_auth_key\n  Field required [type=missing, input_value={'my_api_key': 'env_test'}, input_type=dict]\n    For further information visit https://errors.pydantic.dev/2.5/v/missing",
     "output_type": "error",
     "traceback": [
      "\u001b[1;31m---------------------------------------------------------------------------\u001b[0m",
      "\u001b[1;31mValidationError\u001b[0m                           Traceback (most recent call last)",
      "Cell \u001b[1;32mIn[28], line 11\u001b[0m\n\u001b[0;32m      7\u001b[0m     auth_key: \u001b[38;5;28mstr\u001b[39m \u001b[38;5;241m=\u001b[39m Field(validation_alias\u001b[38;5;241m=\u001b[39m\u001b[38;5;124m'\u001b[39m\u001b[38;5;124mmy_auth_key\u001b[39m\u001b[38;5;124m'\u001b[39m)\n\u001b[0;32m      8\u001b[0m     api_key: \u001b[38;5;28mstr\u001b[39m \u001b[38;5;241m=\u001b[39m Field(alias\u001b[38;5;241m=\u001b[39m\u001b[38;5;124m'\u001b[39m\u001b[38;5;124mmy_api_key\u001b[39m\u001b[38;5;124m'\u001b[39m)\n\u001b[1;32m---> 11\u001b[0m \u001b[38;5;28mprint\u001b[39m(\u001b[43mSettings\u001b[49m\u001b[43m(\u001b[49m\u001b[43m)\u001b[49m\u001b[38;5;241m.\u001b[39mmodel_dump())\n",
      "File \u001b[1;32mc:\\aaC\\vEnv\\vEnvPy_3.12\\vEnv\\Lib\\site-packages\\pydantic_settings\\main.py:71\u001b[0m, in \u001b[0;36mBaseSettings.__init__\u001b[1;34m(__pydantic_self__, _case_sensitive, _env_prefix, _env_file, _env_file_encoding, _env_nested_delimiter, _secrets_dir, **values)\u001b[0m\n\u001b[0;32m     60\u001b[0m \u001b[38;5;28;01mdef\u001b[39;00m \u001b[38;5;21m__init__\u001b[39m(\n\u001b[0;32m     61\u001b[0m     __pydantic_self__,\n\u001b[0;32m     62\u001b[0m     _case_sensitive: \u001b[38;5;28mbool\u001b[39m \u001b[38;5;241m|\u001b[39m \u001b[38;5;28;01mNone\u001b[39;00m \u001b[38;5;241m=\u001b[39m \u001b[38;5;28;01mNone\u001b[39;00m,\n\u001b[1;32m   (...)\u001b[0m\n\u001b[0;32m     69\u001b[0m ) \u001b[38;5;241m-\u001b[39m\u001b[38;5;241m>\u001b[39m \u001b[38;5;28;01mNone\u001b[39;00m:\n\u001b[0;32m     70\u001b[0m     \u001b[38;5;66;03m# Uses something other than `self` the first arg to allow \"self\" as a settable attribute\u001b[39;00m\n\u001b[1;32m---> 71\u001b[0m     \u001b[38;5;28;43msuper\u001b[39;49m\u001b[43m(\u001b[49m\u001b[43m)\u001b[49m\u001b[38;5;241;43m.\u001b[39;49m\u001b[38;5;21;43m__init__\u001b[39;49m\u001b[43m(\u001b[49m\n\u001b[0;32m     72\u001b[0m \u001b[43m        \u001b[49m\u001b[38;5;241;43m*\u001b[39;49m\u001b[38;5;241;43m*\u001b[39;49m\u001b[43m__pydantic_self__\u001b[49m\u001b[38;5;241;43m.\u001b[39;49m\u001b[43m_settings_build_values\u001b[49m\u001b[43m(\u001b[49m\n\u001b[0;32m     73\u001b[0m \u001b[43m            \u001b[49m\u001b[43mvalues\u001b[49m\u001b[43m,\u001b[49m\n\u001b[0;32m     74\u001b[0m \u001b[43m            \u001b[49m\u001b[43m_case_sensitive\u001b[49m\u001b[38;5;241;43m=\u001b[39;49m\u001b[43m_case_sensitive\u001b[49m\u001b[43m,\u001b[49m\n\u001b[0;32m     75\u001b[0m \u001b[43m            \u001b[49m\u001b[43m_env_prefix\u001b[49m\u001b[38;5;241;43m=\u001b[39;49m\u001b[43m_env_prefix\u001b[49m\u001b[43m,\u001b[49m\n\u001b[0;32m     76\u001b[0m \u001b[43m            \u001b[49m\u001b[43m_env_file\u001b[49m\u001b[38;5;241;43m=\u001b[39;49m\u001b[43m_env_file\u001b[49m\u001b[43m,\u001b[49m\n\u001b[0;32m     77\u001b[0m \u001b[43m            \u001b[49m\u001b[43m_env_file_encoding\u001b[49m\u001b[38;5;241;43m=\u001b[39;49m\u001b[43m_env_file_encoding\u001b[49m\u001b[43m,\u001b[49m\n\u001b[0;32m     78\u001b[0m \u001b[43m            \u001b[49m\u001b[43m_env_nested_delimiter\u001b[49m\u001b[38;5;241;43m=\u001b[39;49m\u001b[43m_env_nested_delimiter\u001b[49m\u001b[43m,\u001b[49m\n\u001b[0;32m     79\u001b[0m \u001b[43m            \u001b[49m\u001b[43m_secrets_dir\u001b[49m\u001b[38;5;241;43m=\u001b[39;49m\u001b[43m_secrets_dir\u001b[49m\u001b[43m,\u001b[49m\n\u001b[0;32m     80\u001b[0m \u001b[43m        \u001b[49m\u001b[43m)\u001b[49m\n\u001b[0;32m     81\u001b[0m \u001b[43m    \u001b[49m\u001b[43m)\u001b[49m\n",
      "File \u001b[1;32mc:\\aaC\\vEnv\\vEnvPy_3.12\\vEnv\\Lib\\site-packages\\pydantic\\main.py:164\u001b[0m, in \u001b[0;36mBaseModel.__init__\u001b[1;34m(__pydantic_self__, **data)\u001b[0m\n\u001b[0;32m    162\u001b[0m \u001b[38;5;66;03m# `__tracebackhide__` tells pytest and some other tools to omit this function from tracebacks\u001b[39;00m\n\u001b[0;32m    163\u001b[0m __tracebackhide__ \u001b[38;5;241m=\u001b[39m \u001b[38;5;28;01mTrue\u001b[39;00m\n\u001b[1;32m--> 164\u001b[0m \u001b[43m__pydantic_self__\u001b[49m\u001b[38;5;241;43m.\u001b[39;49m\u001b[43m__pydantic_validator__\u001b[49m\u001b[38;5;241;43m.\u001b[39;49m\u001b[43mvalidate_python\u001b[49m\u001b[43m(\u001b[49m\u001b[43mdata\u001b[49m\u001b[43m,\u001b[49m\u001b[43m \u001b[49m\u001b[43mself_instance\u001b[49m\u001b[38;5;241;43m=\u001b[39;49m\u001b[43m__pydantic_self__\u001b[49m\u001b[43m)\u001b[49m\n",
      "\u001b[1;31mValidationError\u001b[0m: 1 validation error for Settings\nmy_auth_key\n  Field required [type=missing, input_value={'my_api_key': 'env_test'}, input_type=dict]\n    For further information visit https://errors.pydantic.dev/2.5/v/missing"
     ]
    }
   ],
   "source": [
    "import os\n",
    "from pydantic import Field\n",
    "from pydantic_settings import BaseSettings\n",
    "\n",
    "\n",
    "class Settings(BaseSettings):\n",
    "    auth_key: str = Field(validation_alias='my_auth_key')\n",
    "    api_key: str = Field(alias='my_api_key')\n",
    "\n",
    "\n",
    "print(Settings().model_dump())"
   ]
  },
  {
   "cell_type": "code",
   "execution_count": null,
   "metadata": {},
   "outputs": [],
   "source": [
    "import os\n",
    "from pydantic import Field, AliasChoices\n",
    "from pydantic_settings import BaseSettings\n",
    "\n",
    "os.environ[\"AUTH_KEY\"] = \"test_auth_key\"\n",
    "os.environ[\"MY_API_KEY\"] = \"test\"\n",
    "os.environ[\"ENV2\"] = \"https://mysuperurl.com\"\n",
    "\n",
    "\n",
    "class Settings(BaseSettings):\n",
    "    service_name: str = Field(default=\"default\")\n",
    "    auth_key: str\n",
    "    api_key: str = Field(alias='my_api_key')\n",
    "    url: str = Field(validation_alias=AliasChoices(\"env1\", \"env2\"))\n",
    "\n",
    "\n",
    "print(Settings().model_dump())"
   ]
  },
  {
   "cell_type": "code",
   "execution_count": null,
   "metadata": {},
   "outputs": [],
   "source": [
    "import os\n",
    "from pydantic import Field\n",
    "from pydantic_settings import BaseSettings, SettingsConfigDict\n",
    "\n",
    "# Set environment variables with the prefix\n",
    "os.environ[\"PRODUCTION_AUTH_KEY\"] = \"test_auth_key\"\n",
    "os.environ[\"PRODUCTION_MY_API_KEY\"] = \"test\"\n",
    "os.environ[\"PRODUCTION_ENV2\"] = \"https://mysuperurl.com\"\n",
    "\n",
    "\n",
    "class Settings(BaseSettings):\n",
    "    model_config = SettingsConfigDict(env_prefix='production_')\n",
    "\n",
    "    service_name: str = Field(default=\"default\")\n",
    "    auth_key: str\n",
    "    api_key: str = Field(alias='my_api_key')\n",
    "    url: str = Field(validation_alias=AliasChoices(\"env1\", \"env2\"))\n",
    "\n",
    "print(Settings().model_dump())\n"
   ]
  },
  {
   "cell_type": "markdown",
   "metadata": {},
   "source": [
    "You can also use a .env file"
   ]
  },
  {
   "cell_type": "code",
   "execution_count": null,
   "metadata": {},
   "outputs": [],
   "source": [
    "from pydantic_settings import BaseSettings, SettingsConfigDict\n",
    "\n",
    "\n",
    "class Settings(BaseSettings):\n",
    "\n",
    "    model_config = SettingsConfigDict(env_file='.env', env_file_encoding='utf-8')\n",
    "\n",
    "    service_name: str = Field(default=\"default\")\n",
    "    auth_key: str\n",
    "    api_key: str = Field(alias='my_api_key')\n",
    "\n",
    "\n",
    "print(Settings().model_dump())"
   ]
  },
  {
   "cell_type": "markdown",
   "metadata": {},
   "source": [
    "Extra attributes (https://docs.pydantic.dev/2.3/usage/model_config/#extra-attributes)"
   ]
  },
  {
   "cell_type": "code",
   "execution_count": null,
   "metadata": {},
   "outputs": [],
   "source": [
    "from pydantic_settings import BaseSettings, SettingsConfigDict\n",
    "\n",
    "\n",
    "class Settings(BaseSettings):\n",
    "\n",
    "    model_config = SettingsConfigDict(env_file='.env', env_file_encoding='utf-8', extra=\"ignore\") # forbid, allow\n",
    "\n",
    "    service_name: str = Field(default=\"default\")\n",
    "    auth_key: str\n",
    "    api_key: str = Field(alias='my_api_key')\n",
    "\n",
    "\n",
    "print(Settings().model_dump())"
   ]
  }
 ],
 "metadata": {
  "kernelspec": {
   "display_name": "Python 3",
   "language": "python",
   "name": "python3"
  },
  "language_info": {
   "codemirror_mode": {
    "name": "ipython",
    "version": 3
   },
   "file_extension": ".py",
   "mimetype": "text/x-python",
   "name": "python",
   "nbconvert_exporter": "python",
   "pygments_lexer": "ipython3",
   "version": "3.12.1"
  },
  "orig_nbformat": 4
 },
 "nbformat": 4,
 "nbformat_minor": 2
}
