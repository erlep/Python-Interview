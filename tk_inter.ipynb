{
 "cells": [
  {
   "cell_type": "code",
   "execution_count": 1,
   "metadata": {},
   "outputs": [],
   "source": [
    "#!/usr/bin/env python\n",
    "\n",
    "#  ===============================================\n",
    "#   tkinter - example\n",
    "#  ===============================================\n",
    "\n",
    "import tkinter as tk\n",
    "\n",
    "# Vytvoření hlavního okna\n",
    "root = tk.Tk()\n",
    "root.title(\"Moje první Tkinter aplikace\")\n",
    "\n",
    "# Přidání štítku\n",
    "label = tk.Label(root, text=\"Ahoj, světe!\")\n",
    "label.pack()\n",
    "\n",
    "# Spuštění hlavní smyčky\n",
    "root.mainloop()\n"
   ]
  }
 ],
 "metadata": {
  "kernelspec": {
   "display_name": "vEnv",
   "language": "python",
   "name": "python3"
  },
  "language_info": {
   "codemirror_mode": {
    "name": "ipython",
    "version": 3
   },
   "file_extension": ".py",
   "mimetype": "text/x-python",
   "name": "python",
   "nbconvert_exporter": "python",
   "pygments_lexer": "ipython3",
   "version": "3.12.7"
  }
 },
 "nbformat": 4,
 "nbformat_minor": 2
}
